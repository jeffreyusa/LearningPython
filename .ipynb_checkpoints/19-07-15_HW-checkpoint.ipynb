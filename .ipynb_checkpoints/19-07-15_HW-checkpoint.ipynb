{
 "cells": [
  {
   "cell_type": "code",
   "execution_count": null,
   "metadata": {},
   "outputs": [],
   "source": [
    "while True:\n",
    "    num1,num2=map(int,input().split(' '))\n",
    "    if num1==0 and num2==0:\n",
    "        break\n",
    "    else:\n",
    "        print(num1+num2)\n"
   ]
  },
  {
   "cell_type": "markdown",
   "metadata": {},
   "source": [
    "입력은 여러 개의 테스트 케이스로 이루어져 있다.\n",
    "\n",
    "각 테스트 케이스는 한 줄로 이루어져 있으며, 각 줄에 A와 B가 주어진다. (0 < A, B < 10)"
   ]
  },
  {
   "cell_type": "code",
   "execution_count": null,
   "metadata": {},
   "outputs": [
    {
     "name": "stdout",
     "output_type": "stream",
     "text": [
      "1 1\n",
      "2\n",
      "2 3\n",
      "5\n",
      "-1 11\n"
     ]
    }
   ],
   "source": [
    "while True:\n",
    "    A,B=map(int,input().split(' '))\n",
    "    if 0<A and B<10:\n",
    "        print(A+B)\n",
    "    else:\n",
    "        break"
   ]
  },
  {
   "cell_type": "code",
   "execution_count": 4,
   "metadata": {},
   "outputs": [
    {
     "name": "stdout",
     "output_type": "stream",
     "text": [
      "26\n",
      "4\n"
     ]
    }
   ],
   "source": [
    "N = input()\n",
    " \n",
    "if int(N) < 10:\n",
    "    N = N + '0'\n",
    " \n",
    "num1 = 0\n",
    "sum = 0\n",
    "ans_num = N\n",
    "while True:\n",
    "    num1 += 1\n",
    "    sum = int(ans_num[0]) + int(ans_num[1])\n",
    " \n",
    "    if sum < 10:\n",
    "        new = ans_num[1]+str(sum)\n",
    "    else :\n",
    "        new = ans_num[1] + str(sum)[1]\n",
    " \n",
    "    if new == N:\n",
    "        break\n",
    "    else:\n",
    "        ans_num = new\n",
    " \n",
    "print (num1)"
   ]
  }
 ],
 "metadata": {
  "kernelspec": {
   "display_name": "Python 3",
   "language": "python",
   "name": "python3"
  },
  "language_info": {
   "codemirror_mode": {
    "name": "ipython",
    "version": 3
   },
   "file_extension": ".py",
   "mimetype": "text/x-python",
   "name": "python",
   "nbconvert_exporter": "python",
   "pygments_lexer": "ipython3",
   "version": "3.7.3"
  }
 },
 "nbformat": 4,
 "nbformat_minor": 2
}
