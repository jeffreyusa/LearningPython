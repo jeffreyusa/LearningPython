{
 "cells": [
  {
   "cell_type": "code",
   "execution_count": 1,
   "metadata": {},
   "outputs": [],
   "source": [
    "import numpy as np"
   ]
  },
  {
   "cell_type": "code",
   "execution_count": 3,
   "metadata": {},
   "outputs": [
    {
     "name": "stdout",
     "output_type": "stream",
     "text": [
      "base_data\n",
      "=[100 101 102 103 104 105 106 107 108 109 110 111 112 113 114 115 116 117\n",
      " 118 119 120 121 122 123 124 125 126 127 128 129 130 131 132 133 134 135\n",
      " 136 137 138 139 140 141 142 143 144 145 146 147 148 149 150 151 152 153\n",
      " 154 155 156 157 158 159 160 161 162 163 164 165 166 167 168 169 170 171\n",
      " 172 173 174 175 176 177 178 179 180 181 182 183 184 185 186 187 188 189\n",
      " 190 191 192 193 194 195 196 197 198 199]\n",
      "\n"
     ]
    }
   ],
   "source": [
    "base_data=np.arange(100,200)\n",
    "print('base_data\\n={}\\n'.format(base_data))\n"
   ]
  },
  {
   "cell_type": "code",
   "execution_count": 4,
   "metadata": {},
   "outputs": [
    {
     "name": "stdout",
     "output_type": "stream",
     "text": [
      "base_data[10]=110\n",
      "\n"
     ]
    }
   ],
   "source": [
    "print('base_data[10]={}\\n'.format(base_data[10]))"
   ]
  },
  {
   "cell_type": "code",
   "execution_count": 6,
   "metadata": {},
   "outputs": [
    {
     "name": "stdout",
     "output_type": "stream",
     "text": [
      "[ 0  5 10 15 20 25 30 35 40 45 50 55 60 65 70 75 80 85 90 95]\n"
     ]
    }
   ],
   "source": [
    "every_five=np.arange(0,100,5)\n",
    "print(every_five)"
   ]
  },
  {
   "cell_type": "code",
   "execution_count": 9,
   "metadata": {},
   "outputs": [
    {
     "name": "stdout",
     "output_type": "stream",
     "text": [
      "base_data(every_five)=\n",
      "[100 105 110 115 120 125 130 135 140 145 150 155 160 165 170 175 180 185\n",
      " 190 195]\n",
      "\n"
     ]
    }
   ],
   "source": [
    "print('base_data(every_five)=\\n{}\\n'.format(base_data[every_five]))"
   ]
  },
  {
   "cell_type": "code",
   "execution_count": 10,
   "metadata": {},
   "outputs": [],
   "source": [
    "#array로 인댁싱 할 수 있다\n",
    "#subscripts"
   ]
  },
  {
   "cell_type": "code",
   "execution_count": 11,
   "metadata": {},
   "outputs": [
    {
     "name": "stdout",
     "output_type": "stream",
     "text": [
      "a=\n",
      "[[ 1  2]\n",
      " [10 20]]\n",
      "\n",
      "base_data[a]=\n",
      "[[101 102]\n",
      " [110 120]]\n",
      "\n"
     ]
    }
   ],
   "source": [
    "a=np.array([(1,2),(10,20)])\n",
    "print('a=\\n{}\\n'.format(a))\n",
    "print('base_data[a]=\\n{}\\n'.format(base_data[a]))"
   ]
  },
  {
   "cell_type": "code",
   "execution_count": 13,
   "metadata": {},
   "outputs": [
    {
     "name": "stdout",
     "output_type": "stream",
     "text": [
      "base_data2=np.reshape(base_data,(10,-1))=\n",
      "[[100 101 102 103 104 105 106 107 108 109]\n",
      " [110 111 112 113 114 115 116 117 118 119]\n",
      " [120 121 122 123 124 125 126 127 128 129]\n",
      " [130 131 132 133 134 135 136 137 138 139]\n",
      " [140 141 142 143 144 145 146 147 148 149]\n",
      " [150 151 152 153 154 155 156 157 158 159]\n",
      " [160 161 162 163 164 165 166 167 168 169]\n",
      " [170 171 172 173 174 175 176 177 178 179]\n",
      " [180 181 182 183 184 185 186 187 188 189]\n",
      " [190 191 192 193 194 195 196 197 198 199]]\n",
      "\n"
     ]
    }
   ],
   "source": [
    "base_data2=base_data.reshape(10,-1)\n",
    "print('base_data2=np.reshape(base_data,(10,-1))=\\n{}\\n'.format(base_data2))"
   ]
  },
  {
   "cell_type": "code",
   "execution_count": 15,
   "metadata": {},
   "outputs": [
    {
     "name": "stdout",
     "output_type": "stream",
     "text": [
      "base_data2[2]=\n",
      "[120 121 122 123 124 125 126 127 128 129]\n",
      "\n"
     ]
    }
   ],
   "source": [
    "print('base_data2[2]=\\n{}\\n'.format(base_data2[2]))"
   ]
  },
  {
   "cell_type": "code",
   "execution_count": 16,
   "metadata": {},
   "outputs": [
    {
     "name": "stdout",
     "output_type": "stream",
     "text": [
      "base_data[2,3]=\n",
      "123\n",
      "\n"
     ]
    }
   ],
   "source": [
    "print('base_data[2,3]=\\n{}\\n'.format(base_data2[2,3]))"
   ]
  },
  {
   "cell_type": "code",
   "execution_count": 17,
   "metadata": {},
   "outputs": [
    {
     "name": "stdout",
     "output_type": "stream",
     "text": [
      "base_data2[-1,-1]=\n",
      "199\n",
      "\n"
     ]
    }
   ],
   "source": [
    "print('base_data2[-1,-1]=\\n{}\\n'.format(base_data2[-1,-1]))"
   ]
  },
  {
   "cell_type": "code",
   "execution_count": 18,
   "metadata": {},
   "outputs": [
    {
     "name": "stdout",
     "output_type": "stream",
     "text": [
      "base_data2[2,:]=\n",
      "[120 121 122 123 124 125 126 127 128 129]\n",
      "\n"
     ]
    }
   ],
   "source": [
    "print('base_data2[2,:]=\\n{}\\n'.format(base_data2[2,:]))"
   ]
  },
  {
   "cell_type": "code",
   "execution_count": 20,
   "metadata": {},
   "outputs": [
    {
     "name": "stdout",
     "output_type": "stream",
     "text": [
      "base_data2[:,3]]=\n",
      "[103 113 123 133 143 153 163 173 183 193]\n",
      "\n"
     ]
    }
   ],
   "source": [
    "print('base_data2[:,3]]=\\n{}\\n'.format(base_data2[:,3]))"
   ]
  },
  {
   "cell_type": "code",
   "execution_count": 21,
   "metadata": {},
   "outputs": [
    {
     "name": "stdout",
     "output_type": "stream",
     "text": [
      "base_data2[2:5,2:4]]=\n",
      "[[122 123]\n",
      " [132 133]\n",
      " [142 143]]\n",
      "\n"
     ]
    }
   ],
   "source": [
    "print('base_data2[2:5,2:4]]=\\n{}\\n'.format(base_data2[2:5,2:4]))"
   ]
  },
  {
   "cell_type": "code",
   "execution_count": 22,
   "metadata": {},
   "outputs": [
    {
     "name": "stdout",
     "output_type": "stream",
     "text": [
      "base_data=\n",
      "[[ 28.4879882    9.29098834  -2.37526594 -20.40756477 -30.63033289]\n",
      " [ 14.55335503  10.73589282 -18.50044952  43.98138565  21.57986226]\n",
      " [-17.21302344  26.40086649  14.96152459  -4.23059214  37.53903832]\n",
      " [ 48.15519756 -13.94430999 -19.38208438  39.77865737  40.17819287]\n",
      " [-15.5856451   15.59644165  39.30682729  30.53594571  24.55868489]]\n",
      "\n"
     ]
    }
   ],
   "source": [
    "base_data=(np.random.random((5,5))-0.5)*100\n",
    "print('base_data=\\n{}\\n'.format(base_data))"
   ]
  },
  {
   "cell_type": "code",
   "execution_count": 23,
   "metadata": {},
   "outputs": [
    {
     "name": "stdout",
     "output_type": "stream",
     "text": [
      "np.amin(base_data)=-30.630332885990086\n"
     ]
    }
   ],
   "source": [
    "print('np.amin(base_data)={}'.format(np.amin(base_data)))"
   ]
  },
  {
   "cell_type": "code",
   "execution_count": 25,
   "metadata": {},
   "outputs": [
    {
     "name": "stdout",
     "output_type": "stream",
     "text": [
      "np.amax(base_data)=48.15519755751144\n"
     ]
    }
   ],
   "source": [
    "print('np.amax(base_data)={}'.format(np.amax(base_data)))"
   ]
  },
  {
   "cell_type": "code",
   "execution_count": 26,
   "metadata": {},
   "outputs": [
    {
     "name": "stdout",
     "output_type": "stream",
     "text": [
      "np.average(base_data)=12.134863233477553\n"
     ]
    }
   ],
   "source": [
    "print('np.average(base_data)={}'.format(np.average(base_data)))"
   ]
  },
  {
   "cell_type": "code",
   "execution_count": 28,
   "metadata": {},
   "outputs": [
    {
     "name": "stdout",
     "output_type": "stream",
     "text": [
      "np.sum(base_data)=303.37158083693885\n"
     ]
    }
   ],
   "source": [
    "print('np.sum(base_data)={}'.format(np.sum(base_data)))"
   ]
  },
  {
   "cell_type": "code",
   "execution_count": 30,
   "metadata": {},
   "outputs": [
    {
     "name": "stdout",
     "output_type": "stream",
     "text": [
      "np.sin(base_data)=[[-2.12032531e-01  1.33390848e-01 -6.93493458e-01 -9.99918241e-01\n",
      "   7.07244998e-01]\n",
      " [ 9.14636651e-01 -9.66471817e-01  3.42058248e-01 -9.11496963e-04\n",
      "   3.99788708e-01]\n",
      " [ 9.97840157e-01  9.54543727e-01  6.79028663e-01  8.86163750e-01\n",
      "  -1.59390791e-01]\n",
      " [-8.57971512e-01 -9.81460667e-01 -5.07713292e-01  8.73354439e-01\n",
      "   6.15099085e-01]\n",
      " [-1.22013378e-01  1.11290591e-01  9.99318567e-01 -7.70726659e-01\n",
      "  -5.43042639e-01]]\n"
     ]
    }
   ],
   "source": [
    "print('np.sin(base_data)={}'.format(np.sin(base_data)))"
   ]
  },
  {
   "cell_type": "code",
   "execution_count": 31,
   "metadata": {},
   "outputs": [
    {
     "name": "stdout",
     "output_type": "stream",
     "text": [
      "Multipiles: [  1   4   9  16  25  36  49  64  81 100 121 144 169 196 225 256 289 324\n",
      " 361]\n"
     ]
    }
   ],
   "source": [
    "arr=np.arange(1,20)\n",
    "arr=arr*arr\n",
    "print('Multipiles:',arr)\n"
   ]
  },
  {
   "cell_type": "code",
   "execution_count": 32,
   "metadata": {},
   "outputs": [
    {
     "name": "stdout",
     "output_type": "stream",
     "text": [
      "-: [0 0 0 0 0 0 0 0 0 0 0 0 0 0 0 0 0 0 0]\n"
     ]
    }
   ],
   "source": [
    "arr=arr-arr\n",
    "print('-:',arr)\n"
   ]
  },
  {
   "cell_type": "code",
   "execution_count": 36,
   "metadata": {},
   "outputs": [
    {
     "name": "stdout",
     "output_type": "stream",
     "text": [
      "+: [ 2  4  6  8 10 12 14 16 18 20 22 24 26 28 30 32 34 36 38]\n"
     ]
    }
   ],
   "source": [
    "arr=np.arange(1,20)\n",
    "arr=arr+arr\n",
    "print('+:',arr)\n"
   ]
  },
  {
   "cell_type": "code",
   "execution_count": 37,
   "metadata": {},
   "outputs": [
    {
     "name": "stdout",
     "output_type": "stream",
     "text": [
      "Divide: [1. 1. 1. 1. 1. 1. 1. 1. 1. 1. 1. 1. 1. 1. 1. 1. 1. 1. 1.]\n"
     ]
    }
   ],
   "source": [
    "arr=np.arange(1,20)\n",
    "arr=arr/arr\n",
    "print('Divide:',arr)\n"
   ]
  },
  {
   "cell_type": "code",
   "execution_count": 38,
   "metadata": {},
   "outputs": [
    {
     "name": "stdout",
     "output_type": "stream",
     "text": [
      "+50: [51. 51. 51. 51. 51. 51. 51. 51. 51. 51. 51. 51. 51. 51. 51. 51. 51. 51.\n",
      " 51.]\n"
     ]
    }
   ],
   "source": [
    "arr=arr+50\n",
    "print('+50:',arr)"
   ]
  },
  {
   "cell_type": "code",
   "execution_count": null,
   "metadata": {},
   "outputs": [],
   "source": []
  }
 ],
 "metadata": {
  "kernelspec": {
   "display_name": "Python 3",
   "language": "python",
   "name": "python3"
  },
  "language_info": {
   "codemirror_mode": {
    "name": "ipython",
    "version": 3
   },
   "file_extension": ".py",
   "mimetype": "text/x-python",
   "name": "python",
   "nbconvert_exporter": "python",
   "pygments_lexer": "ipython3",
   "version": "3.7.3"
  }
 },
 "nbformat": 4,
 "nbformat_minor": 2
}
